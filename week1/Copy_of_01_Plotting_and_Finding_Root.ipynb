{
  "nbformat": 4,
  "nbformat_minor": 2,
  "metadata": {
    "hide_input": false,
    "kernelspec": {
      "name": "python3",
      "display_name": "Python 3.8.8 64-bit ('base': conda)"
    },
    "language_info": {
      "codemirror_mode": {
        "name": "ipython",
        "version": 3
      },
      "file_extension": ".py",
      "mimetype": "text/x-python",
      "name": "python",
      "nbconvert_exporter": "python",
      "pygments_lexer": "ipython3",
      "version": "3.8.8"
    },
    "toc": {
      "colors": {
        "hover_highlight": "#DAA520",
        "running_highlight": "#FF0000",
        "selected_highlight": "#FFD700"
      },
      "moveMenuLeft": true,
      "nav_menu": {
        "height": "84px",
        "width": "252px"
      },
      "navigate_menu": true,
      "number_sections": true,
      "sideBar": true,
      "threshold": 4,
      "toc_cell": false,
      "toc_section_display": "block",
      "toc_window_display": true
    },
    "colab": {
      "name": "Copy of 01 Plotting and Finding Root.ipynb",
      "provenance": []
    },
    "interpreter": {
      "hash": "690dd525f8af8d131f8916ebe919327dd84ead7e4b5f5e93a9a6431d14fcb846"
    }
  },
  "cells": [
    {
      "cell_type": "markdown",
      "source": [
        "# Important\n",
        "To Execute a cell. Press Shift+Enter or Ctrl+Enter"
      ],
      "metadata": {
        "id": "-7F4Ta1C8nYN"
      }
    },
    {
      "cell_type": "code",
      "execution_count": 1,
      "source": [
        "#load all the necessary libraries\r\n",
        "%matplotlib inline\r\n",
        "from matplotlib import pyplot as plt\r\n",
        "import numpy as np\r\n",
        "import math"
      ],
      "outputs": [],
      "metadata": {
        "collapsed": true,
        "id": "thECpU4-8nYP"
      }
    },
    {
      "cell_type": "markdown",
      "source": [
        "# Python Recap"
      ],
      "metadata": {
        "id": "O-8WIjlO8nYP"
      }
    },
    {
      "cell_type": "markdown",
      "source": [
        "## Printing"
      ],
      "metadata": {
        "id": "Q7f0CPIM8nYQ"
      }
    },
    {
      "cell_type": "code",
      "execution_count": null,
      "source": [
        "# here is how you print something\r\n",
        "a = 1\r\n",
        "b = 2\r\n",
        "c = a + b\r\n",
        "print(c)\r\n",
        "\r\n",
        "#if you want to show line number View --> Toggle Line Number"
      ],
      "outputs": [
        {
          "output_type": "stream",
          "name": "stdout",
          "text": [
            "3\n"
          ]
        }
      ],
      "metadata": {
        "id": "f60VctdN8nYQ",
        "colab": {
          "base_uri": "https://localhost:8080/"
        },
        "outputId": "b5fe8578-3646-470f-f146-0b41f0576077"
      }
    },
    {
      "cell_type": "markdown",
      "source": [
        "## Conditional Statement"
      ],
      "metadata": {
        "id": "iIe8iA7A8nYQ"
      }
    },
    {
      "cell_type": "code",
      "execution_count": null,
      "source": [
        "#conditional statement\r\n",
        "x = 3\r\n",
        "if x<5:\r\n",
        "    print (x, 'is less than five')\r\n",
        "else:\r\n",
        "    print (x, 'is not less than five')"
      ],
      "outputs": [
        {
          "output_type": "stream",
          "name": "stdout",
          "text": [
            "3 is less than five\n"
          ]
        }
      ],
      "metadata": {
        "id": "MAKh04rH8nYR",
        "outputId": "7f7868bd-467f-4683-ca7e-a026e01eaaa9"
      }
    },
    {
      "cell_type": "markdown",
      "source": [
        "## Define a function"
      ],
      "metadata": {
        "id": "YaxKLerb8nYR"
      }
    },
    {
      "cell_type": "code",
      "execution_count": null,
      "source": [
        "#define a function\r\n",
        "def f(x):\r\n",
        "    a = 2*x + 1\r\n",
        "    return a\r\n",
        "print(f(10))"
      ],
      "outputs": [
        {
          "output_type": "stream",
          "name": "stdout",
          "text": [
            "21\n"
          ]
        }
      ],
      "metadata": {
        "id": "abj6qoU28nYR",
        "colab": {
          "base_uri": "https://localhost:8080/"
        },
        "outputId": "37bb5cbd-3083-484f-b544-ac5e21854c61"
      }
    },
    {
      "cell_type": "markdown",
      "source": [
        "## While Loop"
      ],
      "metadata": {
        "id": "rafLwpww8nYS"
      }
    },
    {
      "cell_type": "code",
      "execution_count": null,
      "source": [
        "#while loop\r\n",
        "i = 0\r\n",
        "while i < 10:\r\n",
        "    i+=1\r\n",
        "    print(i, end='') #that's how you avoid new line"
      ],
      "outputs": [
        {
          "output_type": "stream",
          "name": "stdout",
          "text": [
            "12345678910"
          ]
        }
      ],
      "metadata": {
        "id": "mWyjGAzO8nYS",
        "outputId": "6e26113e-2d99-4559-87cd-4d7154a5722c"
      }
    },
    {
      "cell_type": "markdown",
      "source": [
        "## For Loop"
      ],
      "metadata": {
        "id": "0C-ibS9N8nYS"
      }
    },
    {
      "cell_type": "code",
      "execution_count": null,
      "source": [
        "#here is list and use it\r\n",
        "a1 = [1,2,3,4,5,6]\r\n",
        "for x in a1:\r\n",
        "    print(x, end='')\r\n",
        "print('----')\r\n",
        "for i,x in enumerate(a1): #if you also want the index\r\n",
        "    print(i, x)"
      ],
      "outputs": [
        {
          "output_type": "stream",
          "name": "stdout",
          "text": [
            "123456----\n",
            "0 1\n",
            "1 2\n",
            "2 3\n",
            "3 4\n",
            "4 5\n",
            "5 6\n"
          ]
        }
      ],
      "metadata": {
        "id": "G4Pl7BWu8nYS",
        "colab": {
          "base_uri": "https://localhost:8080/"
        },
        "outputId": "794702c8-5c55-48ea-ff0b-c008e3a7efa5"
      }
    },
    {
      "cell_type": "code",
      "execution_count": null,
      "source": [
        "#here is how to build one (not so beautiful)\r\n",
        "#Also notice here that I use a1 from the previous cell.\r\n",
        "#once you execute the code it's stored in the kernel\r\n",
        "a2 = []\r\n",
        "for x in a1:\r\n",
        "    a2.append(2*x)\r\n",
        "print (a2)"
      ],
      "outputs": [
        {
          "output_type": "stream",
          "name": "stdout",
          "text": [
            "[2, 4, 6, 8, 10, 12]\n"
          ]
        }
      ],
      "metadata": {
        "id": "6u66NjNN8nYT",
        "colab": {
          "base_uri": "https://localhost:8080/"
        },
        "outputId": "679437df-9ecf-4223-c4b9-cc8ca44511a5"
      }
    },
    {
      "cell_type": "markdown",
      "source": [
        "## For Comprehension\n",
        "We will be using it a lot in this class"
      ],
      "metadata": {
        "id": "KwEg-GYL8nYT"
      }
    },
    {
      "cell_type": "code",
      "execution_count": null,
      "source": [
        "#But this is ugly\r\n",
        "#let us use list comprehension makes it much easier to read\r\n",
        "a3 = [2*x+1 for x in a1]\r\n",
        "print (a3)"
      ],
      "outputs": [
        {
          "output_type": "stream",
          "name": "stdout",
          "text": [
            "[3, 5, 7, 9, 11, 13]\n"
          ]
        }
      ],
      "metadata": {
        "id": "IKniZEHF8nYT",
        "colab": {
          "base_uri": "https://localhost:8080/"
        },
        "outputId": "8e6abe5b-e044-4c58-9f8e-4ff3d39e3576"
      }
    },
    {
      "cell_type": "markdown",
      "source": [
        "## Numpy array and broadcast operation"
      ],
      "metadata": {
        "id": "NotWzVuw8nYT"
      }
    },
    {
      "cell_type": "code",
      "execution_count": null,
      "source": [
        "#but since we will be using it a lot we have something much better\r\n",
        "#it's called numpy array\r\n",
        "\r\n",
        "arr = np.linspace(0,1,10) #this gives you 10 number from 0 to 10 equally spaced \r\n",
        "print (arr)\r\n",
        "print (2*arr) #array broadcasting magic it does what you think it should\r\n",
        "print (arr**2)\r\n",
        "print (np.exp(arr)) #exp function\r\n",
        "\r\n",
        "#you can also convert normal list to numpy array if you want\r\n",
        "arr3 = np.array(a3)\r\n",
        "print(arr3*2)"
      ],
      "outputs": [
        {
          "output_type": "stream",
          "name": "stdout",
          "text": [
            "[0.         0.11111111 0.22222222 0.33333333 0.44444444 0.55555556\n",
            " 0.66666667 0.77777778 0.88888889 1.        ]\n",
            "[0.         0.22222222 0.44444444 0.66666667 0.88888889 1.11111111\n",
            " 1.33333333 1.55555556 1.77777778 2.        ]\n",
            "[0.         0.01234568 0.04938272 0.11111111 0.19753086 0.30864198\n",
            " 0.44444444 0.60493827 0.79012346 1.        ]\n",
            "[1.         1.11751907 1.24884887 1.39561243 1.5596235  1.742909\n",
            " 1.94773404 2.17662993 2.43242545 2.71828183]\n",
            "[ 6 10 14 18 22 26]\n"
          ]
        }
      ],
      "metadata": {
        "id": "gpisQqBN8nYT",
        "colab": {
          "base_uri": "https://localhost:8080/"
        },
        "outputId": "d9207c1a-fe63-465c-aefb-22ef249665f2"
      }
    },
    {
      "cell_type": "markdown",
      "source": [
        "## Plotting"
      ],
      "metadata": {
        "id": "BCpg0Rce8nYU"
      }
    },
    {
      "cell_type": "code",
      "execution_count": null,
      "source": [
        "#plotting is easy\r\n",
        "xs = np.linspace(0,1,100)\r\n",
        "ys = xs**2\r\n",
        "plt.plot(xs,ys)\r\n",
        "plt.savefig('first_plot.pdf') #you can save it too"
      ],
      "outputs": [
        {
          "output_type": "display_data",
          "data": {
            "image/png": "[encoded data removed]",
            "text/plain": [
              "<Figure size 432x288 with 1 Axes>"
            ]
          },
          "metadata": {
            "needs_background": "light"
          }
        }
      ],
      "metadata": {
        "id": "LjRJlQ5h8nYU",
        "colab": {
          "base_uri": "https://localhost:8080/",
          "height": 265
        },
        "outputId": "fa05524d-f291-45bb-f21c-aff702a1e44e"
      }
    },
    {
      "cell_type": "code",
      "execution_count": null,
      "source": [
        "plt.plot(xs,ys, color='red') #change the style too\r\n",
        "plt.plot(xs,xs) #and you can plot two things on the same graph\r\n",
        "#It can do much more see: http://matplotlib.org/gallery.html"
      ],
      "outputs": [
        {
          "output_type": "execute_result",
          "data": {
            "text/plain": [
              "[<matplotlib.lines.Line2D at 0x7f497215e310>]"
            ]
          },
          "metadata": {},
          "execution_count": 23
        },
        {
          "output_type": "display_data",
          "data": {
            "image/png": "[encoded data removed]",
            "text/plain": [
              "<Figure size 432x288 with 1 Axes>"
            ]
          },
          "metadata": {
            "needs_background": "light"
          }
        }
      ],
      "metadata": {
        "id": "MuCG4YcL8nYU",
        "colab": {
          "base_uri": "https://localhost:8080/",
          "height": 282
        },
        "outputId": "54080a4a-b8f6-4101-f292-32ee422f2b5f"
      }
    },
    {
      "cell_type": "markdown",
      "source": [
        "# Root Finding"
      ],
      "metadata": {
        "id": "oJc4gRRn8nYU"
      }
    },
    {
      "cell_type": "markdown",
      "source": [
        "## Consider $x = cos(x)$. Our goal is to solve for x that satisfy that.\n",
        "\n",
        "Plot something that helps you solve it."
      ],
      "metadata": {
        "id": "sdtLJ0SL8nYU"
      }
    },
    {
      "cell_type": "code",
      "execution_count": 4,
      "source": [
        "xs = np.linspace(0,np.pi,200)\r\n",
        "ys = np.cos(xs)\r\n",
        "plt.plot(xs,ys, label=('cos(x)'))\r\n",
        "plt.plot(xs,xs, label=('xs'))\r\n",
        "\r\n",
        "plt.xlim(0.72,0.74)\r\n",
        "plt.ylim(0.72,0.74)\r\n",
        "plt.legend()\r\n",
        "plt.grid()\r\n",
        "\r\n",
        "x = (0.7375 + 0.74)/2\r\n",
        "print(x)\r\n",
        "plt.axvline(x,color='red')"
      ],
      "outputs": [
        {
          "output_type": "stream",
          "name": "stdout",
          "text": [
            "0.73875\n"
          ]
        },
        {
          "output_type": "execute_result",
          "data": {
            "text/plain": [
              "<matplotlib.lines.Line2D at 0x144f6f08df0>"
            ]
          },
          "metadata": {},
          "execution_count": 4
        },
        {
          "output_type": "display_data",
          "data": {
            "image/png": "[encoded data removed]",
            "text/plain": [
              "<Figure size 432x288 with 1 Axes>"
            ]
          },
          "metadata": {
            "needs_background": "light"
          }
        }
      ],
      "metadata": {
        "collapsed": true,
        "id": "S9-ytsZt8nYU",
        "colab": {
          "base_uri": "https://localhost:8080/",
          "height": 269
        },
        "outputId": "bb62e437-25cd-433d-a7e4-15e80cff4ed5"
      }
    },
    {
      "cell_type": "markdown",
      "source": [
        "## Given the what you did what is your answer?"
      ],
      "metadata": {
        "id": "IMPphu5P8nYU"
      }
    },
    {
      "cell_type": "code",
      "execution_count": 5,
      "source": [
        "# answer is in this range [0.7375, 0.7400]\r\n",
        "# 0.73875 +- 0.00125 #half the block\r\n",
        "# 0.xxxxx +- 0.0000000000000000000001\r\n",
        "# more effort you put it ---> More accurate answer.\r\n",
        "\r\n",
        "print(x)\r\n",
        "print(np.cos(x))"
      ],
      "outputs": [
        {
          "output_type": "stream",
          "name": "stdout",
          "text": [
            "0.73875\n",
            "0.739310841471142\n"
          ]
        }
      ],
      "metadata": {
        "collapsed": true,
        "id": "Mxyl7iM68nYU"
      }
    },
    {
      "cell_type": "markdown",
      "source": [
        "Every eq -> f(x) = 0 can be written as\r\n",
        "cos(x) = x ??????????"
      ],
      "metadata": {}
    },
    {
      "cell_type": "markdown",
      "source": [
        "## How accurate is your answer?\n",
        "$answer = \\ldots \\pm \\ldots$\n",
        "\n",
        "Accuracy is also an important part for numerical algorithm --> How fast we can improve our accuracy."
      ],
      "metadata": {
        "id": "Ia9l_sv38nYV"
      }
    },
    {
      "cell_type": "code",
      "execution_count": null,
      "source": [],
      "outputs": [],
      "metadata": {
        "collapsed": true,
        "id": "DCONaLYf8nYV"
      }
    },
    {
      "cell_type": "markdown",
      "source": [
        "## Make it more accurate"
      ],
      "metadata": {
        "id": "HVgdK9c68nYV"
      }
    },
    {
      "cell_type": "code",
      "execution_count": null,
      "source": [],
      "outputs": [],
      "metadata": {
        "id": "JzqIsCJ08nYV"
      }
    },
    {
      "cell_type": "markdown",
      "source": [
        "## Write the equation above as $f(x)= 0$"
      ],
      "metadata": {
        "id": "BvUTLNmS8nYV"
      }
    },
    {
      "cell_type": "code",
      "execution_count": null,
      "source": [],
      "outputs": [],
      "metadata": {
        "id": "JEDncghf8nYV"
      }
    },
    {
      "cell_type": "markdown",
      "source": [
        "# Bisection"
      ],
      "metadata": {
        "id": "dokV-Vy08nYV"
      }
    },
    {
      "cell_type": "markdown",
      "source": [
        "# cos(x) = x\r\n",
        "# f(x) = 0\r\n",
        "# f(x) = cos(x) - x"
      ],
      "metadata": {}
    },
    {
      "cell_type": "markdown",
      "source": [
        "## If you use a bisection method and your starting bound is $x=0.2$ and $x=1.2$, how do you know that there is a solution by looking only at $f(0.2)$ and $f(1.2)$"
      ],
      "metadata": {
        "id": "tA-Q8Z8V8nYV"
      }
    },
    {
      "cell_type": "code",
      "execution_count": 7,
      "source": [
        "f(0.2) * f(1.2) < 0"
      ],
      "outputs": [
        {
          "output_type": "execute_result",
          "data": {
            "text/plain": [
              "True"
            ]
          },
          "metadata": {},
          "execution_count": 7
        }
      ],
      "metadata": {
        "id": "SDGvUvxL8nYV"
      }
    },
    {
      "cell_type": "code",
      "execution_count": 11,
      "source": [
        "xs = np.linspace(0.2,1.2,100)\r\n",
        "plt.plot(xs,f(xs))\r\n",
        "plt.axhline(0, color='red')"
      ],
      "outputs": [
        {
          "output_type": "execute_result",
          "data": {
            "text/plain": [
              "<matplotlib.lines.Line2D at 0x144f7050820>"
            ]
          },
          "metadata": {},
          "execution_count": 11
        },
        {
          "output_type": "display_data",
          "data": {
            "image/png": "[encoded data removed]",
            "text/plain": [
              "<Figure size 432x288 with 1 Axes>"
            ]
          },
          "metadata": {
            "needs_background": "light"
          }
        }
      ],
      "metadata": {}
    },
    {
      "cell_type": "code",
      "execution_count": 9,
      "source": [
        "f(0.2)*f(0.4)"
      ],
      "outputs": [
        {
          "output_type": "execute_result",
          "data": {
            "text/plain": [
              "0.4064622664383863"
            ]
          },
          "metadata": {},
          "execution_count": 9
        }
      ],
      "metadata": {}
    },
    {
      "cell_type": "markdown",
      "source": [
        "## Plot the graph along with the two vertical line representing the bound. (use plt.axvline)"
      ],
      "metadata": {
        "id": "ekZGwVSN8nYV"
      }
    },
    {
      "cell_type": "code",
      "execution_count": 12,
      "source": [
        "left = 0.2\r\n",
        "right = 1.2\r\n",
        "c = (left + right)/2\r\n",
        "xs = np.linspace(0,1.5,100)\r\n",
        "plt.axvline(left)\r\n",
        "plt.axvline(right)\r\n",
        "plt.plot(xs, f(xs))\r\n",
        "plt.axhline(0, color=\"red\")\r\n",
        "\r\n",
        "plt.axvline(c, color='magenta')"
      ],
      "outputs": [
        {
          "output_type": "execute_result",
          "data": {
            "text/plain": [
              "<matplotlib.lines.Line2D at 0x144f70dcfd0>"
            ]
          },
          "metadata": {},
          "execution_count": 12
        },
        {
          "output_type": "display_data",
          "data": {
            "image/png": "[encoded data removed]",
            "text/plain": [
              "<Figure size 432x288 with 1 Axes>"
            ]
          },
          "metadata": {
            "needs_background": "light"
          }
        }
      ],
      "metadata": {
        "id": "zceeVjTQ8nYV"
      }
    },
    {
      "cell_type": "code",
      "execution_count": 32,
      "source": [
        "def f(x):\r\n",
        "    return np.cos(x) - x\r\n",
        "from typing import Tuple\r\n",
        "def bisection(f, l: float, r: float, n: int) -> Tuple[float, float]:\r\n",
        "    \"\"\"\r\n",
        "    f: the function you want to solve for f(x) = 0\r\n",
        "    l: initial left bound\r\n",
        "    r: initial right bound\r\n",
        "    n: number of iteration\r\n",
        "    Returns:\r\n",
        "        The solution best guess\r\n",
        "    \"\"\"\r\n",
        "    \r\n",
        "    \r\n",
        "    for i in range(n):\r\n",
        "        c = (l+r)/2\r\n",
        "        if f(c) * f(l) < 0:\r\n",
        "            r = c\r\n",
        "        else:\r\n",
        "            l = c\r\n",
        "    return c , (r-l)/2\r\n",
        "\r\n",
        "    \"\"\"\r\n",
        "    Another way but 2nd ans is different\r\n",
        "    for i in range(n):\r\n",
        "        c = (l+r)/2\r\n",
        "        if f(c) * f(l) < 0:\r\n",
        "            c = l\r\n",
        "        elif f(c)*f(r) > 0:\r\n",
        "            c = r\r\n",
        "        return c\r\n",
        "    \"\"\"\r\n",
        "        \r\n",
        "\r\n",
        "x, acc = bisection(f,0.2,1.2,30)\r\n",
        "print(x,acc,f(x))\r\n",
        "\r\n",
        "xs = np.linspace(0.2,1.2,100)\r\n"
      ],
      "outputs": [
        {
          "output_type": "stream",
          "name": "stdout",
          "text": [
            "0.7390851339325308 4.656612873077393e-10 -1.2005993976771379e-09\n"
          ]
        }
      ],
      "metadata": {}
    },
    {
      "cell_type": "markdown",
      "source": [
        "## If we guess right in the middle of the two bound what would be the error on our guess?\n",
        "$$\n",
        "    answer = \\ldots \\pm \\ldots\n",
        "$$\n"
      ],
      "metadata": {
        "id": "VlElz7mj8nYV"
      }
    },
    {
      "cell_type": "code",
      "execution_count": null,
      "source": [],
      "outputs": [],
      "metadata": {
        "id": "Y3NOhcpn8nYV"
      }
    },
    {
      "cell_type": "markdown",
      "source": [
        "## If you want to make a new pair of bound which pair would you pick? How did you know?"
      ],
      "metadata": {
        "id": "RKTwr63j8nYV"
      }
    },
    {
      "cell_type": "code",
      "execution_count": null,
      "source": [],
      "outputs": [],
      "metadata": {
        "id": "oAzqbc7E8nYW"
      }
    },
    {
      "cell_type": "markdown",
      "source": [
        "## Write a function which find solution to f(x)=0 using the method you just discovered. Try plotting as you go."
      ],
      "metadata": {
        "id": "KqBNatEk8nYW"
      }
    },
    {
      "cell_type": "code",
      "execution_count": null,
      "source": [],
      "outputs": [],
      "metadata": {
        "id": "41Nkx46C8nYW"
      }
    },
    {
      "cell_type": "markdown",
      "source": [
        "## Given that the intial bound is of size $S$. After $n$ iterations how accurate is your answer?\n",
        "\n",
        "$$\\text{error}(n) = \\ldots$$"
      ],
      "metadata": {
        "id": "-IDw-RsF8nYW"
      }
    },
    {
      "cell_type": "code",
      "execution_count": null,
      "source": [],
      "outputs": [],
      "metadata": {
        "id": "gkbSvAa-8nYW"
      }
    },
    {
      "cell_type": "markdown",
      "source": [
        "## Give me the solution to  $x=cos(x)$ that is at most  $10^{−6}$ away from the real answer. Verify your solution graphically."
      ],
      "metadata": {
        "id": "pvib8OW98nYW"
      }
    },
    {
      "cell_type": "code",
      "execution_count": null,
      "source": [],
      "outputs": [],
      "metadata": {
        "id": "LXW9dCCq8nYW"
      }
    },
    {
      "cell_type": "markdown",
      "source": [
        "# Newton's Method\n",
        "Let us do someting a bit more efficient. Suppose that we want to solve  $x^3−x=1$  using Newtons's method with initial guess at  $x=2$ . If you start to get lost, PLOT!."
      ],
      "metadata": {
        "id": "vpVvp3b68nYW"
      }
    },
    {
      "cell_type": "markdown",
      "source": [
        "## What is the function that we are trying to find intercept? Plot it."
      ],
      "metadata": {
        "id": "5IgHpHLg8nYW"
      }
    },
    {
      "cell_type": "code",
      "execution_count": null,
      "source": [],
      "outputs": [],
      "metadata": {
        "id": "qIaMS0AY8nYW"
      }
    },
    {
      "cell_type": "markdown",
      "source": [
        "## What is the slope of the tangent line at $x=2$"
      ],
      "metadata": {
        "id": "1_6X0K2-8nYW"
      }
    },
    {
      "cell_type": "code",
      "execution_count": null,
      "source": [],
      "outputs": [],
      "metadata": {
        "id": "WG6bqZ6P8nYW"
      }
    },
    {
      "cell_type": "markdown",
      "source": [
        "## What is the equation for the tangent line at  $x=2$ Plot it along with the function."
      ],
      "metadata": {
        "id": "wkM8Rkop8nYW"
      }
    },
    {
      "cell_type": "code",
      "execution_count": null,
      "source": [],
      "outputs": [],
      "metadata": {
        "id": "5J6WgV4r8nYW"
      }
    },
    {
      "cell_type": "markdown",
      "source": [
        "## What is the intercept for that line? That's your new guess."
      ],
      "metadata": {
        "id": "ioi2-YFP8nYW"
      }
    },
    {
      "cell_type": "code",
      "execution_count": null,
      "source": [],
      "outputs": [],
      "metadata": {
        "id": "NVcjVP7Z8nYW"
      }
    },
    {
      "cell_type": "markdown",
      "source": [
        "## Now combine everything in to one formula you should get something along the line of\r\n",
        "\r\n",
        "$$\r\n",
        "x_{n+1} = x_n - \\frac{f(x_n)}{f'(x_n)}\r\n",
        "$$\r\n",
        "\r\n",
        "This is called update rule; how you get an improved answer from the previous guess."
      ],
      "metadata": {
        "id": "ZOUvSrdk8nYX"
      }
    },
    {
      "cell_type": "code",
      "execution_count": 36,
      "source": [
        "def newton(f, fp, x0: float, n:int):\r\n",
        "    ans = x0\r\n",
        "    for i in range(n):\r\n",
        "        ans = ans - f(ans)/fp(ans)\r\n",
        "    return ans\r\n",
        "\r\n",
        "def f(x):\r\n",
        "    return x - np.cos(x)\r\n",
        "\r\n",
        "def fp(x):\r\n",
        "    return 1 + np.sin(x)\r\n",
        "\r\n",
        "print (newton(f,fp,0.8,5))\r\n",
        "\r\n",
        "def g(x):\r\n",
        "    return x**3 - x -1\r\n",
        "\r\n",
        "def gp(x):\r\n",
        "    return 3*x**2 -1\r\n",
        "\r\n",
        "x = newton(g, gp,1,5)\r\n",
        "print(g(x))"
      ],
      "outputs": [
        {
          "output_type": "stream",
          "name": "stdout",
          "text": [
            "0.7390851332151607\n",
            "1.0811156071403496\n",
            "1.865174681370263e-13\n"
          ]
        }
      ],
      "metadata": {
        "id": "_hxAOlSm8nYX"
      }
    },
    {
      "cell_type": "markdown",
      "source": [
        "## Newton's method converges very very quickly. We will go through the derivation later on.\n",
        "Now find solution to $x^3−x=1$. Also as a plotting exercise try make something similar to this figure:\n",
        "\n",
        "Here is how I annotate the figure\n",
        "`plt.annotate('x%d'%i, xy=(x, 0), xytext=(x,-0.2), fontsize=18)`\n",
        "\n",
        "<div>\n",
        "<img src=\"attachment:trythis.png\" width=\"600\"/>\n",
        "</div>\n"
      ],
      "metadata": {
        "id": "vAQL252j8nYX"
      }
    },
    {
      "cell_type": "code",
      "execution_count": null,
      "source": [],
      "outputs": [],
      "metadata": {
        "id": "Tj7hw9Cy8nYX"
      }
    },
    {
      "cell_type": "markdown",
      "source": [
        "## Solve $\\sqrt[3]{x}=0$ by hand. What's $x$?"
      ],
      "metadata": {
        "id": "l4f5WvhA8nYX"
      }
    },
    {
      "cell_type": "code",
      "execution_count": 43,
      "source": [
        "def cube_root(x):\r\n",
        "    return np.power(np.abs(x),float(1)/3)*np.sign(x)\r\n",
        "\r\n",
        "def cube_root_p(x):\r\n",
        "        #1/3 x^-2/3\r\n",
        "    return 1/3/cube_root(x)**2\r\n",
        "xs = np.linspace(-1,1,50)\r\n",
        "ys = cube_root(xs)\r\n",
        "plt.plot(xs,ys)\r\n",
        "plt.axhline(0, color='red')\r\n",
        "\r\n",
        "def newton(f, fp, x0: float, n:int):\r\n",
        "    ans = x0\r\n",
        "    for i in range(n):\r\n",
        "        ans = ans - f(ans)/fp(ans)\r\n",
        "        plt.plot(ans,f(ans),'o', label=str(i))\r\n",
        "    return ans\r\n",
        "\r\n",
        "newton(cube_root, cube_root_p, 0.1,3)\r\n",
        "plt.legend()"
      ],
      "outputs": [
        {
          "output_type": "execute_result",
          "data": {
            "text/plain": [
              "<matplotlib.legend.Legend at 0x144f6f71850>"
            ]
          },
          "metadata": {},
          "execution_count": 43
        },
        {
          "output_type": "display_data",
          "data": {
            "image/png": "[encoded data removed]",
            "text/plain": [
              "<Figure size 432x288 with 1 Axes>"
            ]
          },
          "metadata": {
            "needs_background": "light"
          }
        }
      ],
      "metadata": {
        "id": "E96Ju2Sd8nYX"
      }
    },
    {
      "cell_type": "markdown",
      "source": [
        "## Try Newton's method on it.\n",
        "Try plotting as you go to see what's going on.\n",
        "\n",
        "Now you learn that even though it converges super fast. It doesn't guarantee to converge."
      ],
      "metadata": {
        "id": "BcWk5tg88nYX"
      }
    },
    {
      "cell_type": "code",
      "execution_count": null,
      "source": [],
      "outputs": [],
      "metadata": {
        "id": "81tRYUtc8nYX"
      }
    },
    {
      "cell_type": "markdown",
      "source": [
        "# Bonus\n"
      ],
      "metadata": {
        "id": "tdQiHxn38nYX"
      }
    },
    {
      "cell_type": "markdown",
      "source": [
        "## Simplify (1+x)-1"
      ],
      "metadata": {
        "id": "iPU-hpGJ8nYX"
      }
    },
    {
      "cell_type": "code",
      "execution_count": null,
      "source": [
        "x"
      ],
      "outputs": [],
      "metadata": {
        "id": "6qe2CBFU8nYY"
      }
    },
    {
      "cell_type": "markdown",
      "source": [
        "## Then why is this false"
      ],
      "metadata": {
        "id": "xd4G0IBc8nYY"
      }
    },
    {
      "cell_type": "code",
      "execution_count": null,
      "source": [
        "x = 1e-10\r\n",
        "print (x)\r\n",
        "print ((1+x)-1 == x)"
      ],
      "outputs": [
        {
          "output_type": "stream",
          "name": "stdout",
          "text": [
            "1e-10\n",
            "False\n"
          ]
        }
      ],
      "metadata": {
        "id": "KQrKEmnj8nYY",
        "outputId": "63ae4e05-7f4e-4c7b-9f85-71e501596814"
      }
    }
  ]
}