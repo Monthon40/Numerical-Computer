{
 "cells": [
  {
   "cell_type": "code",
   "execution_count": 4,
   "source": [
    "%matplotlib inline\r\n",
    "import math\r\n",
    "import numpy as np\r\n",
    "from matplotlib import pyplot as plt"
   ],
   "outputs": [],
   "metadata": {
    "collapsed": true
   }
  },
  {
   "cell_type": "markdown",
   "source": [
    "# Homework"
   ],
   "metadata": {}
  },
  {
   "cell_type": "markdown",
   "source": [
    "## Problem 1\n",
    "\n",
    "Give me the solution to $x = e^{-x}$ that is $10^{-6}$ using bisection method.\n",
    "\n",
    "Pick the initial bound from the following and explain why you can't pick the other one.\n",
    "Bound A: (-1,0), Bound B (0,1)"
   ],
   "metadata": {}
  },
  {
   "cell_type": "code",
   "execution_count": 8,
   "source": [
    "x1 = np.linspace(-1,0)\r\n",
    "y1 = x1-np.exp(-x1)\r\n",
    "\r\n",
    "x2 = np.linspace(0,1)\r\n",
    "y2 = x2-np.exp(-x2)\r\n",
    "\r\n",
    "plt.plot(x1,y1)\r\n",
    "plt.plot(x2,y2)\r\n",
    "plt.axvline(0, color ='blue')\r\n",
    "plt.axhline(0, color ='yellow')\r\n",
    "\r\n",
    "plt.axvline(0, color='red')\r\n",
    "plt.axvline(1, color='black')\r\n",
    "\r\n",
    "#I chose bound B as the lines passes the x-axis from - to + and bound A has the line in the same side of the graph."
   ],
   "outputs": [
    {
     "output_type": "execute_result",
     "data": {
      "text/plain": [
       "<matplotlib.lines.Line2D at 0x18503511190>"
      ]
     },
     "metadata": {},
     "execution_count": 8
    },
    {
     "output_type": "display_data",
     "data": {
      "image/png": "[encoded data removed]",
      "text/plain": [
       "<Figure size 432x288 with 1 Axes>"
      ]
     },
     "metadata": {
      "needs_background": "light"
     }
    }
   ],
   "metadata": {
    "collapsed": true
   }
  },
  {
   "cell_type": "code",
   "execution_count": 13,
   "source": [
    "def bisec(f: 'Function', aaa: float, bbb: float, n: int) -> float:\r\n",
    "    for i in range(n):\r\n",
    "        random = (aaa+bbb)/2\r\n",
    "        left = f(aaa)\r\n",
    "        right = f(bbb)\r\n",
    "        guess = f(random)\r\n",
    "\r\n",
    "        if left*guess < 0:\r\n",
    "            bbb = random\r\n",
    "        else:\r\n",
    "            aaa = random\r\n",
    "            \r\n",
    "    return random\r\n",
    "\r\n",
    "def ttt(x):\r\n",
    "    return x - np.exp(-x)\r\n",
    "\r\n",
    "bisec(ttt, 0, 1, 100)"
   ],
   "outputs": [
    {
     "output_type": "execute_result",
     "data": {
      "text/plain": [
       "0.567143290409784"
      ]
     },
     "metadata": {},
     "execution_count": 13
    }
   ],
   "metadata": {}
  },
  {
   "cell_type": "markdown",
   "source": [
    "## Problem 2\n",
    "Find all value of $x \\in [0,1]$ such that $f(x)=0$ for\n",
    "\n",
    "$f(x) = -0.000216747 + 0.0072868 x - 0.0977383 x^2 + 0.664685 x^3 - \n",
    " 2.40773 x^4 + 4.46766 x^5 - 3.7091 x^6 + x^7$\n",
    " \n",
    "Make sure your answers are at most $10^{-6}$ away from the real solution."
   ],
   "metadata": {}
  },
  {
   "cell_type": "code",
   "execution_count": 14,
   "source": [
    "def f(x):\r\n",
    "    return -0.000216747 + 0.0072868*x - 0.0977383*x**2 + 0.664685*x**3 - \\\r\n",
    "            2.40773*x**4 + 4.46766*x**5 - 3.7091*x**6 + x**7\r\n"
   ],
   "outputs": [],
   "metadata": {
    "collapsed": true
   }
  },
  {
   "cell_type": "code",
   "execution_count": 24,
   "source": [
    "x = np.linspace(0,1)\r\n",
    "\r\n",
    "plt.axhline(0, color='black')\r\n",
    "plt.axvline(0, color='black')\r\n",
    "plt.plot(x, f(x))\r\n",
    "plt.axvline(0.3332987987473287, color='orange', linestyle='dotted')\r\n",
    "plt.axvline(0.12216651342436949, color='orange', linestyle='dotted')\r\n",
    "plt.axvline(0.22002828210147818, color='orange', linestyle='dotted')\r\n",
    "\r\n",
    "plt.ylim(-0.001, 0.001);\r\n",
    "plt.grid()\r\n",
    "print(bisec(f, 0, 1, 100))\r\n",
    "print(bisec(f, 0, 0.3332987987473287, 100))\r\n",
    "print(bisec(f, 0.12216651342436949, 0.3332987987473287, 100))"
   ],
   "outputs": [
    {
     "output_type": "stream",
     "name": "stdout",
     "text": [
      "0.3332987987473287\n",
      "0.12216651342436949\n",
      "0.22002828210147818\n"
     ]
    },
    {
     "output_type": "display_data",
     "data": {
      "image/png": "[encoded data removed]",
      "text/plain": [
       "<Figure size 432x288 with 1 Axes>"
      ]
     },
     "metadata": {
      "needs_background": "light"
     }
    }
   ],
   "metadata": {}
  },
  {
   "cell_type": "markdown",
   "source": [
    "2.1) Find all the local minima and maxima of the above function. How do you figure out whether it is a local maximum or local minimum"
   ],
   "metadata": {}
  },
  {
   "cell_type": "code",
   "execution_count": 23,
   "source": [
    "def first_dev(x):\r\n",
    "    return 0.0072868 - 0.195477*x + 1.99406*x**2 - 9.63092*x**3 + 22.3383*x**4 - 22.2546*x**5 + 7*x**6\r\n",
    "\r\n",
    "def second_dev(x):\r\n",
    "    return -0.195477 + 3.98811*x - 28.8928*x**2 + 89.3532*x**3 - 111.273*x**4 + 42*x**5\r\n",
    "\r\n",
    "# plt.grid()\r\n",
    "# plt.axvline(0, color='black')\r\n",
    "# plt.plot(x, f(x))\r\n",
    "\r\n",
    "# bounds = [1, 0.3332987987473287, 0.22002828210147818, 0.12216651342436949, 0]\r\n",
    "bounds = [1, 0.3332987987473287, 0.22002828210147818, 0]\r\n",
    "\r\n",
    "for i in range(3):\r\n",
    "    first_dev_zero = bisection(first_dev, bounds[i+1], bounds[i], 100)\r\n",
    "    if (second_dev(first_dev_zero) < 0 ): print('Local maxima: x =', first_dev_zero) # f''(f'(0)) is < 0, it means the line is going down from it's peak, which means it's heading down from a maximum peak\r\n",
    "    elif (second_dev(first_dev_zero) > 0 ): print('Local minima: x =', first_dev_zero) # f''(f'(0)) is > 0, it means the line is going up from it's peak, which means it's heading up from a minimum peak\r\n",
    "    else: print('No solution')"
   ],
   "outputs": [
    {
     "output_type": "stream",
     "name": "stdout",
     "text": [
      "0.3332987987473287\n",
      "0.12216651342436949\n",
      "0.22002828210147818\n"
     ]
    },
    {
     "output_type": "display_data",
     "data": {
      "image/png": "[encoded data removed]",
      "text/plain": [
       "<Figure size 432x288 with 1 Axes>"
      ]
     },
     "metadata": {
      "needs_background": "light"
     }
    }
   ],
   "metadata": {
    "collapsed": true
   }
  },
  {
   "cell_type": "markdown",
   "source": [
    "2.2) What is the `global maximum` and `global minimum` of the function above within the range $x\\in[0,1]$"
   ],
   "metadata": {}
  },
  {
   "cell_type": "code",
   "execution_count": null,
   "source": [
    "print('Global maximum is', 0.6817851344074186)\r\n",
    "print('Global minimum is', 0.29706566405452806)"
   ],
   "outputs": [],
   "metadata": {
    "collapsed": true
   }
  },
  {
   "cell_type": "markdown",
   "source": [
    "## Problem 3\n",
    "In quantum physics, when finding a bound state for a finite potential well one would end up with the following equation(Yes E is negative):\n",
    "\n",
    "$$\n",
    "\\sqrt{\\frac{-E}{E+V_0}} = \\tan \\sqrt{2m \\frac{E+V_0}{\\hbar^2} a}\n",
    "$$\n",
    "\n",
    "The goal is to find all Energy($E$) that satisfy this equation.\n",
    "For simplicity, let\n",
    "- $V_0 = 1$\n",
    "- $m = 1$\n",
    "- $a = 1$\n",
    "- $\\hbar = 1$(Yes this is called natural unit)\n",
    "\n",
    "$$\n",
    "    \\sqrt{\\frac{-E}{E+1}} = \\tan \\sqrt{2(E+1)}\n",
    "$$\n",
    "\n",
    "Find the value for $E\\in (-1.0, 0)$ which satisfy the equation above). Make sure you accuracy is $<\\pm10^{-4}$\n"
   ],
   "metadata": {}
  },
  {
   "cell_type": "code",
   "execution_count": 39,
   "source": [
    "def f(x):\r\n",
    "    return math.sqrt(-x/(x+1))\r\n",
    "def g(x):\r\n",
    "    return math.tan(math.sqrt(2*(x + 1)))\r\n",
    "\r\n",
    "xs = np.linspace(-0.999,-0.1, 100)\r\n",
    "fx = [f(x) for x in xs]\r\n",
    "gx = [g(x) for x in xs]\r\n",
    "plt.plot(xs,fx)\r\n",
    "plt.plot(xs,gx)"
   ],
   "outputs": [
    {
     "output_type": "execute_result",
     "data": {
      "text/plain": [
       "[<matplotlib.lines.Line2D at 0x107784310>]"
      ]
     },
     "metadata": {},
     "execution_count": 39
    },
    {
     "output_type": "display_data",
     "data": {
      "image/png": "[encoded data removed]",
      "text/plain": [
       "<matplotlib.figure.Figure at 0x107784c10>"
      ]
     },
     "metadata": {}
    }
   ],
   "metadata": {}
  },
  {
   "cell_type": "markdown",
   "source": [
    "## Problem 4\n",
    "Ply quit programming and decide to be a Apple(fruit) shop owner. He bought 1000 apples everyday and try to sell it. The probability $k$ customer want Ply's apple(one each) is given by Poisson distribution:\n",
    "\n",
    "$$\n",
    "    P(k; \\lambda) = \\frac{\\lambda^k \\exp(-\\lambda)}{k!}\n",
    "$$\n",
    "\n",
    "Where $\\lambda$ is an parameter that represent the mean of number of people that want Ply's apple each day.\n",
    "\n",
    "After selling apples for 2000 days Ply found that his 1000 apples a day are sold out 600 days out of 2000 days.\n",
    "\n",
    "The goal for this problem is to figure out how he should change the number of apples he bought in a day.\n",
    "\n",
    "- In case you are curious https://en.wikipedia.org/wiki/Poisson_distribution. The true distribution of this selling apple process should be binomial distribution but with large enough customer and low enough probability of an individual buying an apple this is an excellent approximatoin."
   ],
   "metadata": {}
  },
  {
   "cell_type": "markdown",
   "source": [
    "4.1) You may find that if you try to code poisson distribution directly. It will not work with large number.\n",
    "$$\n",
    "    P(k; \\lambda) = \\frac{\\lambda^k \\exp(-\\lambda)}{k!}\n",
    "$$\n",
    "\n",
    "Explain briefly why python complains"
   ],
   "metadata": {
    "collapsed": true
   }
  },
  {
   "cell_type": "code",
   "execution_count": 23,
   "source": [
    "import math\n",
    "def bad_poisson(lmd, k):\n",
    "    return pow(lmd,k)*math.exp(-lmd)/math.factorial(k)\n",
    "# bad_poisson(1000,1000) # uncomment to see it breaks"
   ],
   "outputs": [],
   "metadata": {
    "collapsed": true
   }
  },
  {
   "cell_type": "markdown",
   "source": [
    "4.2) A very useful trick to avoid this problem is to take log and exponentiate. That is\n",
    "\n",
    "$$\n",
    "    P(k; \\lambda) = \\exp\\left( \\ln \\left[ \\frac{\\lambda^k \\exp(-\\lambda)}{k!} \\right] \\right)\n",
    "$$\n",
    "\n",
    "First, show that\n",
    "$$\n",
    "    \\ln(P(k; \\lambda)) = (\\ldots \\ln(\\ldots)-\\ldots)-\\ln(k!)\n",
    "$$\n",
    "\n"
   ],
   "metadata": {}
  },
  {
   "cell_type": "code",
   "execution_count": null,
   "source": [],
   "outputs": [],
   "metadata": {
    "collapsed": true
   }
  },
  {
   "cell_type": "markdown",
   "source": [
    "4.3) $\\ln(k!)$ shows up everywhere in math. So most math library have `lgamma` function to compute this very fast.\n",
    "For example,\n",
    "\n",
    "`math.lgamma(5) == math.log(math.factorial(4))`\n",
    "\n",
    "Your job for this problem is to implement $P(k; \\lambda)$ using log-exp trick.\n",
    "\n",
    "If you do it right, $P(k=1000; \\mu=1000) \\approx 0.0126146$"
   ],
   "metadata": {}
  },
  {
   "cell_type": "code",
   "execution_count": null,
   "source": [],
   "outputs": [],
   "metadata": {
    "collapsed": true
   }
  },
  {
   "cell_type": "markdown",
   "source": [
    "4.4) Now here is the fun part. Suppose that $\\lambda = 987.6$(this is not true). Find the probability that Ply will sell all his 1000 apples. (Remember if 2000 people want Ply's apple, he his apple will also be sold out). \n",
    "\n",
    "And No, summing up to infinity is not practical."
   ],
   "metadata": {}
  },
  {
   "cell_type": "code",
   "execution_count": null,
   "source": [
    "    "
   ],
   "outputs": [],
   "metadata": {}
  },
  {
   "cell_type": "markdown",
   "source": [
    "4.5) Recall the information that\n",
    "\n",
    "After selling apples for 2000 days Ply found that his 1000 apples a day are sold out 600 days out of 2000 days.\n",
    "\n",
    "Find the value for $\\lambda$ to a decent accuracy($<\\pm 0.1$)"
   ],
   "metadata": {}
  },
  {
   "cell_type": "code",
   "execution_count": null,
   "source": [],
   "outputs": [],
   "metadata": {
    "collapsed": true
   }
  },
  {
   "cell_type": "markdown",
   "source": [
    "4.6) Using $\\lambda$ you found in 4.5).\n",
    "\n",
    "Ply bounght apple for 20 Baht each and he sell it for 50 Baht each. Which means that for each apple he sells he make a profit of 30 baht. But, at the end of each day Ply has to trash all unsold Apples(taking a loss of 20 Baht each).\n",
    "\n",
    "If Ply bought 1000 apples a day, what would be his expected profit(remember expected value from discrete math/stat/quantum?)."
   ],
   "metadata": {}
  },
  {
   "cell_type": "code",
   "execution_count": null,
   "source": [],
   "outputs": [],
   "metadata": {
    "collapsed": true
   }
  },
  {
   "cell_type": "markdown",
   "source": [
    "4.7) Using $\\lambda$ you found in 4.5) Find the number of apple Ply should buy in a day to maximize his expected profit."
   ],
   "metadata": {}
  },
  {
   "cell_type": "code",
   "execution_count": null,
   "source": [],
   "outputs": [],
   "metadata": {
    "collapsed": true
   }
  },
  {
   "cell_type": "markdown",
   "source": [
    "## Problem 5\n",
    "\n",
    "Full Width at Half Maximum(FWHM). Distribution width is a very important quantity. It tells you how wide a the distribution is. One way to do that is to use a quantity called full-width half max.\n",
    "\n",
    "This is the width of the distribution at half maximum. \n",
    "\n",
    "For example for distribution shown below the maximum is at x=0.0 and y=1.0\n",
    "\n",
    "The maximum of this distribution is 1.0. So we are interested in the width of the distribution when the value of the distribution is 1.0/2=0.5\n",
    "\n",
    "The width of the distribution is shown in black line. In this case it's about 2.35"
   ],
   "metadata": {}
  },
  {
   "cell_type": "code",
   "execution_count": 24,
   "source": [
    "import math\n",
    "def demo(x):\n",
    "    return math.exp(-x**2/2.0)\n",
    "x = np.linspace(-3,3)\n",
    "y = [demo(xx) for xx in x]\n",
    "plt.plot(x,y)\n",
    "plt.axhline(0.5, color='red')\n",
    "\n",
    "plt.axvline(2.355/2,color='red',linestyle='dashed')\n",
    "plt.axvline(-2.355/2,color='red',linestyle='dashed')\n",
    "\n",
    "plt.grid()\n",
    "plt.annotate(\n",
    "    '', xy=(-2.355/2, 0.4), xycoords='data',\n",
    "    xytext=(2.355/2, 0.4), textcoords='data',\n",
    "    arrowprops={'arrowstyle': '<->'})\n",
    "plt.text(0,0.3,'FWHM',horizontalalignment ='center')"
   ],
   "outputs": [
    {
     "output_type": "execute_result",
     "data": {
      "text/plain": [
       "<matplotlib.text.Text at 0x107045fd0>"
      ]
     },
     "metadata": {},
     "execution_count": 24
    },
    {
     "output_type": "display_data",
     "data": {
      "image/png": "[encoded data removed]",
      "text/plain": [
       "<matplotlib.figure.Figure at 0x106635f10>"
      ]
     },
     "metadata": {}
    }
   ],
   "metadata": {}
  },
  {
   "cell_type": "markdown",
   "source": [
    "5.1)Find FWHM of the following function. Make sure the bound on error of the FWHM is less than $10^{-4}$."
   ],
   "metadata": {}
  },
  {
   "cell_type": "code",
   "execution_count": 25,
   "source": [
    "import math\n",
    "def f(x, gamma=3.1):\n",
    "    mu = 2.345\n",
    "    return gamma/((x-mu)**2+gamma**2)\n",
    "x = np.linspace(-10,10,200)\n",
    "y = [f(xx) for xx in x]\n",
    "plt.plot(x,y)"
   ],
   "outputs": [
    {
     "output_type": "execute_result",
     "data": {
      "text/plain": [
       "[<matplotlib.lines.Line2D at 0x106fd2050>]"
      ]
     },
     "metadata": {},
     "execution_count": 25
    },
    {
     "output_type": "display_data",
     "data": {
      "image/png": "[encoded data removed]",
      "text/plain": [
       "<matplotlib.figure.Figure at 0x10708f1d0>"
      ]
     },
     "metadata": {}
    }
   ],
   "metadata": {}
  },
  {
   "cell_type": "markdown",
   "source": [
    "5.2) Plot FWHM(y-axis) as a function of $\\gamma$(gamma) from $\\gamma=0.5\\ldots 3$. Make sure you have at least 30 points."
   ],
   "metadata": {}
  },
  {
   "cell_type": "code",
   "execution_count": 26,
   "source": [
    "print(f(1.0, gamma=0.2)) # you may find this useful"
   ],
   "outputs": [
    {
     "output_type": "stream",
     "name": "stdout",
     "text": [
      "0.108165114047\n"
     ]
    }
   ],
   "metadata": {}
  },
  {
   "cell_type": "markdown",
   "source": [
    "5.3) (Optional) Prove the relation you found in 5.2)"
   ],
   "metadata": {
    "collapsed": true
   }
  },
  {
   "cell_type": "code",
   "execution_count": null,
   "source": [],
   "outputs": [],
   "metadata": {
    "collapsed": true
   }
  }
 ],
 "metadata": {
  "kernelspec": {
   "name": "python3",
   "display_name": "Python 3.8.8 64-bit ('base': conda)"
  },
  "language_info": {
   "name": "python",
   "version": "3.8.8",
   "mimetype": "text/x-python",
   "codemirror_mode": {
    "name": "ipython",
    "version": 3
   },
   "pygments_lexer": "ipython3",
   "nbconvert_exporter": "python",
   "file_extension": ".py"
  },
  "toc": {
   "colors": {
    "hover_highlight": "#DAA520",
    "running_highlight": "#FF0000",
    "selected_highlight": "#FFD700"
   },
   "moveMenuLeft": true,
   "nav_menu": {
    "height": "30px",
    "width": "252px"
   },
   "navigate_menu": true,
   "number_sections": false,
   "sideBar": true,
   "threshold": 4,
   "toc_cell": false,
   "toc_section_display": "block",
   "toc_window_display": false
  },
  "interpreter": {
   "hash": "690dd525f8af8d131f8916ebe919327dd84ead7e4b5f5e93a9a6431d14fcb846"
  }
 },
 "nbformat": 4,
 "nbformat_minor": 1
}