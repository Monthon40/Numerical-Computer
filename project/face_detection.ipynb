{
 "cells": [
  {
   "cell_type": "markdown",
   "metadata": {},
   "source": [
    "Members:\n",
    "<br>\n",
    "Monthon Kraitheerawut 6280184\n",
    "<br>\n",
    "Suprakit Onnuch 6280791"
   ]
  },
  {
   "cell_type": "code",
   "execution_count": 37,
   "metadata": {},
   "outputs": [],
   "source": [
    "import cv2"
   ]
  },
  {
   "cell_type": "code",
   "execution_count": 38,
   "metadata": {},
   "outputs": [],
   "source": [
    "user_input = input(\"Enter image name: \")\n",
    "bbb = r\"C:\\Users\\uSeR\\Desktop\\num com\\project\\images\" + \"\\\\\" + str(user_input) + \".jpg\"\n",
    "imagePath = bbb\n",
    "face_cascasde = \"haarcascade_frontalface_default.xml\"\n",
    "ttt = cv2.CascadeClassifier(face_cascasde)"
   ]
  },
  {
   "cell_type": "code",
   "execution_count": 39,
   "metadata": {},
   "outputs": [],
   "source": [
    "img = cv2.imread(imagePath)"
   ]
  },
  {
   "cell_type": "code",
   "execution_count": 40,
   "metadata": {},
   "outputs": [],
   "source": [
    "gray = cv2.cvtColor(img, cv2.COLOR_BGR2GRAY)"
   ]
  },
  {
   "cell_type": "code",
   "execution_count": 41,
   "metadata": {},
   "outputs": [],
   "source": [
    "faces = ttt.detectMultiScale(gray)\n",
    "for face in faces:\n",
    "    x, y, w, h = face\n",
    "    cv2.rectangle(img,(x,y),(x+w,y+h),(100,100,255),3)"
   ]
  },
  {
   "cell_type": "code",
   "execution_count": 42,
   "metadata": {},
   "outputs": [
    {
     "data": {
      "text/plain": [
       "-1"
      ]
     },
     "execution_count": 42,
     "metadata": {},
     "output_type": "execute_result"
    }
   ],
   "source": [
    "cv2.imshow('Result', img)\n",
    "cv2.waitKey(0)"
   ]
  }
 ],
 "metadata": {
  "interpreter": {
   "hash": "6bcc8282a6c303b6ee86c7e0d9a43121f90860270f44aee589454620e8cc1f45"
  },
  "kernelspec": {
   "display_name": "Python 3.8.11 64-bit ('iccs161 ver2': conda)",
   "language": "python",
   "name": "python3"
  },
  "language_info": {
   "codemirror_mode": {
    "name": "ipython",
    "version": 3
   },
   "file_extension": ".py",
   "mimetype": "text/x-python",
   "name": "python",
   "nbconvert_exporter": "python",
   "pygments_lexer": "ipython3",
   "version": "3.8.11"
  },
  "orig_nbformat": 4
 },
 "nbformat": 4,
 "nbformat_minor": 2
}
